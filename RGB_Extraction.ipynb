{
 "cells": [
  {
   "cell_type": "code",
   "execution_count": 4,
   "metadata": {},
   "outputs": [
    {
     "name": "stdout",
     "output_type": "stream",
     "text": [
      "[114  62  29]\n"
     ]
    }
   ],
   "source": [
    "from PIL import Image\n",
    "import numpy as np\n",
    "\n",
    "def get_rgb_values(image_path):\n",
    "    img = Image.open(image_path)\n",
    "    img_array = np.array(img)\n",
    "    avg_rgb = np.mean(img_array, axis=(0, 1))\n",
    "    return np.round(avg_rgb).astype(int)\n",
    "\n",
    "# Example usage\n",
    "image_path = 'Soil1.jpg'\n",
    "rgb_values = get_rgb_values(image_path)\n",
    "print(rgb_values)\n"
   ]
  },
  {
   "cell_type": "code",
   "execution_count": 5,
   "metadata": {},
   "outputs": [
    {
     "name": "stdout",
     "output_type": "stream",
     "text": [
      "Mean Squared Error: 0.35788132549562457\n",
      "R-squared: 0.08392699319468788\n",
      "Predicted pH for RGB [120, 85, 60]: 7.576248994556241\n"
     ]
    },
    {
     "name": "stderr",
     "output_type": "stream",
     "text": [
      "c:\\Users\\hp\\AppData\\Local\\Programs\\Python\\Python312\\Lib\\site-packages\\sklearn\\base.py:493: UserWarning: X does not have valid feature names, but LinearRegression was fitted with feature names\n",
      "  warnings.warn(\n"
     ]
    }
   ],
   "source": [
    "import pandas as pd\n",
    "from sklearn.model_selection import train_test_split\n",
    "from sklearn.linear_model import LinearRegression\n",
    "from sklearn.metrics import mean_squared_error, r2_score\n",
    "\n",
    "# 1. Load the dataset\n",
    "data = pd.read_csv('soilpH_rgb.csv')  # Replace with your dataset file\n",
    "\n",
    "# 2. Prepare the data\n",
    "X = data[['R', 'G', 'B']]  # Features (RGB values)\n",
    "y = data['pH']  # Target (pH value)\n",
    "\n",
    "# 3. Split the data into training and testing sets\n",
    "X_train, X_test, y_train, y_test = train_test_split(X, y, test_size=0.2, random_state=42)\n",
    "\n",
    "# 4. Initialize and train the Linear Regression model\n",
    "model = LinearRegression()\n",
    "model.fit(X_train, y_train)\n",
    "\n",
    "# 5. Make predictions\n",
    "y_pred = model.predict(X_test)\n",
    "\n",
    "# 6. Evaluate the model\n",
    "mse = mean_squared_error(y_test, y_pred)\n",
    "r2 = r2_score(y_test, y_pred)\n",
    "\n",
    "new_rgb = [[120, 85, 60]]\n",
    "\n",
    "predicted_ph = model.predict(new_rgb)\n",
    "\n",
    "print(f\"Predicted pH for RGB {new_rgb[0]}: {predicted_ph[0]}\")\n"
   ]
  }
 ],
 "metadata": {
  "kernelspec": {
   "display_name": "Python 3",
   "language": "python",
   "name": "python3"
  },
  "language_info": {
   "codemirror_mode": {
    "name": "ipython",
    "version": 3
   },
   "file_extension": ".py",
   "mimetype": "text/x-python",
   "name": "python",
   "nbconvert_exporter": "python",
   "pygments_lexer": "ipython3",
   "version": "3.12.2"
  }
 },
 "nbformat": 4,
 "nbformat_minor": 2
}
